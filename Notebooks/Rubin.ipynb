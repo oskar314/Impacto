{
 "cells": [
  {
   "cell_type": "markdown",
   "metadata": {},
   "source": [
    "# 1. Modelo de Causalidad de Rubin"
   ]
  },
  {
   "cell_type": "markdown",
   "metadata": {},
   "source": [
    "En este capítulo describiremos los elementos esenciales de la evaluación de programas o políticas de acuerdo al planteamiento de Rubin. Tomemos el caso del Bono Juancito Pinto. Consideremos que hay un conjunto de $N$ individuos en nuestra muestra a analizar. Queremos ver el impacto del Bono Juancito Pinto en el rendimiento académico de los estudiantes"
   ]
  },
  {
   "cell_type": "code",
   "execution_count": null,
   "metadata": {},
   "outputs": [],
   "source": []
  }
 ],
 "metadata": {
  "kernelspec": {
   "display_name": "R",
   "language": "R",
   "name": "ir"
  },
  "language_info": {
   "codemirror_mode": "r",
   "file_extension": ".r",
   "mimetype": "text/x-r-source",
   "name": "R",
   "pygments_lexer": "r",
   "version": "4.0.3"
  }
 },
 "nbformat": 4,
 "nbformat_minor": 4
}
